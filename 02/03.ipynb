{
 "cells": [
  {
   "cell_type": "markdown",
   "id": "37de620c",
   "metadata": {},
   "source": [
    "# 미니 실습 1"
   ]
  },
  {
   "cell_type": "code",
   "execution_count": 1,
   "id": "8ed19bc9",
   "metadata": {},
   "outputs": [
    {
     "name": "stdout",
     "output_type": "stream",
     "text": [
      "1\n",
      "g\n",
      "AAC\n"
     ]
    }
   ],
   "source": [
    "def min_of(L):\n",
    "    return min(L)\n",
    "\n",
    "t=(4,7,5.6,2,3.14,1)\n",
    "s='string'\n",
    "a=['DTS','AAC','FLAC']\n",
    "\n",
    "print(f'{min_of(t)}\\n{min_of(s)}\\n{min_of(a)}')"
   ]
  },
  {
   "cell_type": "code",
   "execution_count": 2,
   "id": "67374991",
   "metadata": {},
   "outputs": [
    {
     "name": "stdout",
     "output_type": "stream",
     "text": [
      "[7, 6, 9, 3, 1, 5, 2]\n"
     ]
    }
   ],
   "source": [
    "def reverse_list(a):\n",
    "    n=len(a)\n",
    "    \n",
    "    for i in range(n//2):\n",
    "        a[i],a[n-1-i]=a[n-1-i],a[i]\n",
    "        \n",
    "a=[2,5,1,3,9,6,7]\n",
    "\n",
    "reverse_list(a)\n",
    "print(a)"
   ]
  },
  {
   "cell_type": "markdown",
   "id": "2488373f",
   "metadata": {},
   "source": [
    "# 미니 실습 2"
   ]
  },
  {
   "cell_type": "code",
   "execution_count": 9,
   "id": "be65833c",
   "metadata": {},
   "outputs": [
    {
     "name": "stdout",
     "output_type": "stream",
     "text": [
      "1 2 3 4 5\n"
     ]
    },
    {
     "data": {
      "text/plain": [
       "[5, 4, 3, 2, 1]"
      ]
     },
     "execution_count": 9,
     "metadata": {},
     "output_type": "execute_result"
    }
   ],
   "source": [
    "L=list(map(int,input().split()))\n",
    "\n",
    "list(reversed(L))"
   ]
  },
  {
   "cell_type": "markdown",
   "id": "833438e3",
   "metadata": {},
   "source": [
    "# 미니 실습 3"
   ]
  },
  {
   "cell_type": "code",
   "execution_count": 16,
   "id": "58761c8d",
   "metadata": {},
   "outputs": [
    {
     "name": "stdout",
     "output_type": "stream",
     "text": [
      "선형 탐색 목표값 발견\n",
      "선형 탐색 목표값 발견\n",
      "linear count:8\n",
      "sentinel count: 4\n"
     ]
    }
   ],
   "source": [
    "a=[2,5,1,7,3,9,6,7]\n",
    "cnt=0\n",
    "\n",
    "i=0\n",
    "\n",
    "while i<len(a):\n",
    "    if a[i]==7:\n",
    "        print('선형 탐색 목표값 발견')\n",
    "            \n",
    "    i+=1\n",
    "    cnt+=1\n",
    "    \n",
    "print('linear count:%d'% cnt)\n",
    "\n",
    "cnt=0\n",
    "\n",
    "for item in a:\n",
    "    if item==7:\n",
    "        cnt+=1\n",
    "        break\n",
    "    \n",
    "    cnt+=1\n",
    "    \n",
    "print('sentinel count: %d'%cnt)"
   ]
  },
  {
   "cell_type": "markdown",
   "id": "95a8bf1a",
   "metadata": {},
   "source": [
    "# 실습 3"
   ]
  },
  {
   "cell_type": "code",
   "execution_count": 26,
   "id": "971d5c76",
   "metadata": {},
   "outputs": [
    {
     "name": "stdout",
     "output_type": "stream",
     "text": [
      "5 7 15 28 29 31 39 58 68 70 95\n",
      "0 5 10\n",
      "0 2 4\n",
      "0 0 1\n"
     ]
    },
    {
     "data": {
      "text/plain": [
       "-1"
      ]
     },
     "execution_count": 26,
     "metadata": {},
     "output_type": "execute_result"
    }
   ],
   "source": [
    "def bin_search(a, find):\n",
    "    left=0\n",
    "    right=len(a)-1\n",
    "    \n",
    "    while True:\n",
    "        mid=(left+right)//2\n",
    "        print(left,mid,right)\n",
    "        if a[mid]==find:\n",
    "            return mid\n",
    "        elif a[mid]<find:\n",
    "            left=mid+1\n",
    "        elif a[mid]>find:\n",
    "            right=mid-1\n",
    "        \n",
    "        if left>=right:\n",
    "            return -1\n",
    "\n",
    "L=list(map(int,input().split()))\n",
    "\n",
    "bin_search(L,6)"
   ]
  },
  {
   "cell_type": "markdown",
   "id": "970241a2",
   "metadata": {},
   "source": [
    "# 실습 1"
   ]
  },
  {
   "cell_type": "code",
   "execution_count": 33,
   "id": "12dd9f83",
   "metadata": {},
   "outputs": [
    {
     "data": {
      "text/plain": [
       "168"
      ]
     },
     "execution_count": 33,
     "metadata": {},
     "output_type": "execute_result"
    }
   ],
   "source": [
    "li=[1]\n",
    "\n",
    "for i in range(2,1001):\n",
    "    for j in range(2,i):\n",
    "        if i%j==0: # 1과 자신이 아닌 약수가 있을 때\n",
    "                break\n",
    "        if j==i-1:\n",
    "            li.append(j)\n",
    "    \n",
    "len(li)"
   ]
  },
  {
   "cell_type": "markdown",
   "id": "79a1d197",
   "metadata": {},
   "source": [
    "# 실습 4"
   ]
  },
  {
   "cell_type": "code",
   "execution_count": 34,
   "id": "b6529151",
   "metadata": {},
   "outputs": [
    {
     "name": "stdout",
     "output_type": "stream",
     "text": [
      "1 2 3 4\n",
      "max:3, min:0\n"
     ]
    }
   ],
   "source": [
    "L=list(map(int,input().split()))\n",
    "\n",
    "print(f'max:{L.index(max(L))}, min:{L.index(min(L))}')"
   ]
  },
  {
   "cell_type": "markdown",
   "id": "1d362597",
   "metadata": {},
   "source": [
    "# 추가 실습 Q1"
   ]
  },
  {
   "cell_type": "code",
   "execution_count": 50,
   "id": "b078da39",
   "metadata": {},
   "outputs": [
    {
     "name": "stdout",
     "output_type": "stream",
     "text": [
      "45 4 35 20 3 9\n",
      "20 9 3 45 4 35\n",
      "최고:1, 최저:1\n"
     ]
    }
   ],
   "source": [
    "lottos=list(map(int,input().split()))\n",
    "win_nums=list(map(int,input().split()))\n",
    "\n",
    "cert=0 # 확실\n",
    "cnt=lottos.count(0) # 미지\n",
    "\n",
    "for lo in lottos:\n",
    "    if lo in win_nums:\n",
    "        cert+=1\n",
    "\n",
    "maxi=7-(cnt+cert)\n",
    "mini=7-cert\n",
    "\n",
    "if maxi==7:\n",
    "    maxi=6\n",
    "if mini==7:\n",
    "    mini=6 # 0~1개 일치는 6위로 통일\n",
    "    \n",
    "print(f'최고:{maxi}, 최저:{mini}')"
   ]
  },
  {
   "cell_type": "markdown",
   "id": "8275c9ee",
   "metadata": {},
   "source": [
    "# 추가 실습 Q2"
   ]
  },
  {
   "cell_type": "code",
   "execution_count": 52,
   "id": "906b1496",
   "metadata": {},
   "outputs": [
    {
     "name": "stdout",
     "output_type": "stream",
     "text": [
      "5 8 4 0 6 7 9\n",
      "6\n"
     ]
    }
   ],
   "source": [
    "nums=list(map(int,input().split()))\n",
    "res=0\n",
    "\n",
    "for i in range(10):\n",
    "    if i not in nums:\n",
    "        res+=i\n",
    "\n",
    "print(res)"
   ]
  },
  {
   "cell_type": "markdown",
   "id": "d176015d",
   "metadata": {},
   "source": [
    "# 추가 실습 Q3"
   ]
  },
  {
   "cell_type": "code",
   "execution_count": 54,
   "id": "e397bfda",
   "metadata": {},
   "outputs": [
    {
     "name": "stdout",
     "output_type": "stream",
     "text": [
      "1 2 3 7 8\n",
      "1 5 8 4 6\n",
      "['yes', 'no', 'yes', 'no', 'no']\n"
     ]
    }
   ],
   "source": [
    "def solution(store, customer):\n",
    "    answer = []\n",
    "    \n",
    "    for cus in customer:\n",
    "        if cus in store:\n",
    "            answer.append('yes')\n",
    "        else:\n",
    "            answer.append('no')\n",
    "    return answer\n",
    "\n",
    "store = list(map(int,input().split()))\n",
    "customer = list(map(int,input().split()))\n",
    "answer = solution(store, customer)\n",
    "print(answer)"
   ]
  },
  {
   "cell_type": "markdown",
   "id": "9b65377a",
   "metadata": {},
   "source": [
    "# 추가 실습 Q6"
   ]
  },
  {
   "cell_type": "code",
   "execution_count": 60,
   "id": "c8a21c21",
   "metadata": {},
   "outputs": [
    {
     "name": "stdout",
     "output_type": "stream",
     "text": [
      "10\n",
      "[-1]\n"
     ]
    }
   ],
   "source": [
    "def solution(arr):\n",
    "    if len(arr)==1:\n",
    "        return [-1]\n",
    "    else:\n",
    "        arr.remove(min(arr))\n",
    "\n",
    "    return arr\n",
    "\n",
    "arr = list(map(int,input().split()))\n",
    "\n",
    "answer = solution(arr)\n",
    "print(answer)"
   ]
  },
  {
   "cell_type": "markdown",
   "id": "b712df36",
   "metadata": {},
   "source": [
    "# 추가 실습 Q7"
   ]
  },
  {
   "cell_type": "code",
   "execution_count": 64,
   "id": "778d9bff",
   "metadata": {},
   "outputs": [
    {
     "name": "stdout",
     "output_type": "stream",
     "text": [
      "1 1 3 3 0 1 1\n"
     ]
    },
    {
     "data": {
      "text/plain": [
       "{0, 1, 3}"
      ]
     },
     "execution_count": 64,
     "metadata": {},
     "output_type": "execute_result"
    }
   ],
   "source": [
    "comp=[i for i in range(10)]\n",
    "arr=list(map(int,input().split()))\n",
    "res=[]"
   ]
  },
  {
   "cell_type": "code",
   "execution_count": null,
   "id": "17897f83",
   "metadata": {},
   "outputs": [],
   "source": []
  }
 ],
 "metadata": {
  "kernelspec": {
   "display_name": "Python 3 (ipykernel)",
   "language": "python",
   "name": "python3"
  },
  "language_info": {
   "codemirror_mode": {
    "name": "ipython",
    "version": 3
   },
   "file_extension": ".py",
   "mimetype": "text/x-python",
   "name": "python",
   "nbconvert_exporter": "python",
   "pygments_lexer": "ipython3",
   "version": "3.9.13"
  }
 },
 "nbformat": 4,
 "nbformat_minor": 5
}

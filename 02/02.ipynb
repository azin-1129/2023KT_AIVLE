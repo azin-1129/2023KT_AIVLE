{
 "cells": [
  {
   "cell_type": "markdown",
   "id": "b5a85e8f",
   "metadata": {},
   "source": [
    "# 미니 실습 1"
   ]
  },
  {
   "cell_type": "code",
   "execution_count": null,
   "id": "670f6cb4",
   "metadata": {},
   "outputs": [],
   "source": [
    "a=int(input())\n",
    "b=int(input())\n",
    "c=int(input())\n",
    "d=int(input())\n",
    "\n",
    "maximum=a\n",
    "\n",
    "if b>maximum:\n",
    "    maximum=b\n",
    "elif c>maximum:\n",
    "    maximum=c\n",
    "elif d>maximum:\n",
    "    maximum=d\n",
    "    \n",
    "print(f'maximum:{maximum}')"
   ]
  },
  {
   "cell_type": "markdown",
   "id": "b05880fd",
   "metadata": {},
   "source": [
    "# 미니 실습 2"
   ]
  },
  {
   "cell_type": "code",
   "execution_count": null,
   "id": "bb251d28",
   "metadata": {},
   "outputs": [],
   "source": [
    "def waterPay(co,L):\n",
    "    if co=='A':\n",
    "        A=L*100\n",
    "        \n",
    "        return A\n",
    "    else:\n",
    "        if L<=50:\n",
    "            B=L*150\n",
    "        else:\n",
    "            B=50*150+(L-50)*75 # 주의\n",
    "    \n",
    "        return B"
   ]
  },
  {
   "cell_type": "markdown",
   "id": "e6060404",
   "metadata": {},
   "source": [
    "# 미니 실습 3"
   ]
  },
  {
   "cell_type": "code",
   "execution_count": 5,
   "id": "fc380c8e",
   "metadata": {},
   "outputs": [
    {
     "name": "stdout",
     "output_type": "stream",
     "text": [
      "3\n",
      "7\n",
      "3 + 4 + 5 + 6 + 7 = 25\n"
     ]
    }
   ],
   "source": [
    "a=int(input())\n",
    "b=int(input())\n",
    "\n",
    "if a>b:\n",
    "    a,b=b,a\n",
    "    \n",
    "sum=a\n",
    "\n",
    "print(a,end='')\n",
    "\n",
    "for i in range(a+1,b+1):\n",
    "    print(f' + {i}',end='')\n",
    "#     else:\n",
    "#         print(f'{i} = ',end='')\n",
    "    \n",
    "    sum+=i\n",
    "    \n",
    "print(f' = {sum}')"
   ]
  },
  {
   "cell_type": "markdown",
   "id": "c381e54b",
   "metadata": {},
   "source": [
    "# 미니 실습 4"
   ]
  },
  {
   "cell_type": "code",
   "execution_count": 7,
   "id": "1730a856",
   "metadata": {},
   "outputs": [
    {
     "name": "stdout",
     "output_type": "stream",
     "text": [
      "32\n",
      "1 x 32\n",
      "2 x 16\n",
      "4 x 8\n",
      "8 x 4\n",
      "16 x 2\n",
      "32 x 1\n"
     ]
    }
   ],
   "source": [
    "area=int(input())\n",
    "\n",
    "for i in range(1, area+1):\n",
    "    if area%i:continue\n",
    "    \n",
    "    print(f'{i} x {area//i}')"
   ]
  },
  {
   "cell_type": "markdown",
   "id": "28688f35",
   "metadata": {},
   "source": [
    "# 실습 1"
   ]
  },
  {
   "cell_type": "code",
   "execution_count": 8,
   "id": "064dd583",
   "metadata": {},
   "outputs": [
    {
     "name": "stdout",
     "output_type": "stream",
     "text": [
      "250\n",
      "33717\n"
     ]
    }
   ],
   "source": [
    "def electricPay(kWh):\n",
    "    cost, add, pay, final=0, 0, 0, 0\n",
    "    \n",
    "    if kWh<100:\n",
    "        cost=410+(60.7*kWh)\n",
    "    elif kWh<=200:\n",
    "        cost=910+(60.7*100)+(125.9*(kWh-100))\n",
    "    else:\n",
    "        cost=1600+(60.7*100)+(125.9*100)+(187.9*(kWh-200))\n",
    "        \n",
    "    add=cost*0.1\n",
    "    pay=cost*0.037\n",
    "    \n",
    "    final=int(cost+add+pay)\n",
    "    \n",
    "    return final\n",
    "\n",
    "kWh=int(input())\n",
    "\n",
    "print(electricPay(kWh))\n",
    "    "
   ]
  },
  {
   "cell_type": "markdown",
   "id": "9b85a3e6",
   "metadata": {},
   "source": [
    "# 실습 2"
   ]
  },
  {
   "cell_type": "code",
   "execution_count": 9,
   "id": "f57756c0",
   "metadata": {},
   "outputs": [
    {
     "name": "stdout",
     "output_type": "stream",
     "text": [
      "12\n",
      "+-+-+-+-+-+-"
     ]
    }
   ],
   "source": [
    "N=int(input())\n",
    "\n",
    "for i in range(1,N+1):\n",
    "    if i%2!=0: # 홀수\n",
    "        print('+',end='')\n",
    "    else:\n",
    "        print('-',end='')"
   ]
  },
  {
   "cell_type": "markdown",
   "id": "234fce15",
   "metadata": {},
   "source": [
    "# 실습 3"
   ]
  },
  {
   "cell_type": "code",
   "execution_count": 11,
   "id": "c0a6bc53",
   "metadata": {},
   "outputs": [
    {
     "name": "stdout",
     "output_type": "stream",
     "text": [
      "1 2 3 4 5 6 7 9 10 11 12 "
     ]
    }
   ],
   "source": [
    "for i in range(1,13):\n",
    "    if i==8:\n",
    "        continue\n",
    "    \n",
    "    print(i,end=' ')"
   ]
  },
  {
   "cell_type": "markdown",
   "id": "a112806b",
   "metadata": {},
   "source": [
    "# 실습 4"
   ]
  },
  {
   "cell_type": "code",
   "execution_count": 19,
   "id": "31eb1eb5",
   "metadata": {},
   "outputs": [
    {
     "name": "stdout",
     "output_type": "stream",
     "text": [
      "16\n",
      "2**4=16\n",
      "4**2=16\n"
     ]
    }
   ],
   "source": [
    "N=int(input())\n",
    "\n",
    "def rootpwr(N):\n",
    "    switch=0\n",
    "    \n",
    "    for i in range(2, int(N**0.5)+1):\n",
    "        for j in range(1,7):\n",
    "            if i**j==N:\n",
    "                print(f'{i}**{j}={N}')\n",
    "                switch=1 # 플래그 변수 사용\n",
    "    if switch==1:\n",
    "        return 1\n",
    "    else:\n",
    "        return 0 # 결과 없음\n",
    "\n",
    "if rootpwr(N)==0:\n",
    "    print(\"결과 없음\")"
   ]
  },
  {
   "cell_type": "markdown",
   "id": "0e84d6c8",
   "metadata": {},
   "source": [
    "# 추가실습 Q0"
   ]
  },
  {
   "cell_type": "code",
   "execution_count": 34,
   "id": "ceace241",
   "metadata": {},
   "outputs": [
    {
     "name": "stdout",
     "output_type": "stream",
     "text": [
      "12 16\n",
      "4\n"
     ]
    }
   ],
   "source": [
    "x,y=map(int,input().split())\n",
    "\n",
    "\n",
    "def solution(a, b):\n",
    "    x_n=[]\n",
    "    y_n=[]\n",
    "\n",
    "    for i in range(1,int(x**0.5)+1):\n",
    "        if x%i==0: # 약수\n",
    "            x_n.append(i)\n",
    "            x_n.append(x//i)\n",
    "\n",
    "    for i in range(1,int(y**0.5)+1):\n",
    "        if y%i==0: # 약수\n",
    "            y_n.append(i)\n",
    "            y_n.append(y//i)\n",
    "\n",
    "    x_n=sorted(x_n,reverse=True)\n",
    "    y_n=sorted(y_n,reverse=True)\n",
    "\n",
    "    for i in x_n:\n",
    "        if i in y_n:\n",
    "            return i\n",
    "\n",
    "c = solution(x,y)\n",
    "print(c)"
   ]
  },
  {
   "cell_type": "markdown",
   "id": "aa96b603",
   "metadata": {},
   "source": [
    "# 추가실습 Q1"
   ]
  },
  {
   "cell_type": "code",
   "execution_count": 39,
   "id": "ddfccd49",
   "metadata": {},
   "outputs": [
    {
     "name": "stdout",
     "output_type": "stream",
     "text": [
      "12 16\n",
      "48\n"
     ]
    }
   ],
   "source": [
    "x,y=map(int,input().split())\n",
    "\n",
    "def solution(a, b):\n",
    "    if x>y:\n",
    "        for i in range(1,y+1):\n",
    "            if (x*i)%y==0:\n",
    "                return x*i\n",
    "    elif x<y:\n",
    "        for i in range(1,x+1):\n",
    "            if (y*i)%x==0:\n",
    "                return y*i\n",
    "\n",
    "c = solution(x,y)\n",
    "print(c)"
   ]
  },
  {
   "cell_type": "markdown",
   "id": "f6b6b4e7",
   "metadata": {},
   "source": [
    "# 추가실습 Q2"
   ]
  },
  {
   "cell_type": "code",
   "execution_count": 62,
   "id": "2b8d3415",
   "metadata": {},
   "outputs": [
    {
     "name": "stdout",
     "output_type": "stream",
     "text": [
      "71\n",
      "12\n"
     ]
    }
   ],
   "source": [
    "N=input()\n",
    "\n",
    "if int(N)<10:\n",
    "    cpy=\"0\"+N\n",
    "else:\n",
    "    cpy=N\n",
    "cnt=0\n",
    "\n",
    "while True:\n",
    "    temp=str(int(cpy[0])+int(cpy[1]))\n",
    "    if len(str(temp))>=2:\n",
    "        new=cpy[1]+temp[len(str(temp))-1]\n",
    "    else:\n",
    "        new=cpy[1]+str(int(cpy[0])+int(cpy[1]))\n",
    "    #print(new)\n",
    "    if int(new)==int(N):\n",
    "        cnt+=1\n",
    "        break\n",
    "    else:\n",
    "        cpy=new\n",
    "        cnt+=1\n",
    "\n",
    "print(cnt)"
   ]
  },
  {
   "cell_type": "code",
   "execution_count": null,
   "id": "27d96042",
   "metadata": {},
   "outputs": [],
   "source": []
  }
 ],
 "metadata": {
  "kernelspec": {
   "display_name": "Python 3 (ipykernel)",
   "language": "python",
   "name": "python3"
  },
  "language_info": {
   "codemirror_mode": {
    "name": "ipython",
    "version": 3
   },
   "file_extension": ".py",
   "mimetype": "text/x-python",
   "name": "python",
   "nbconvert_exporter": "python",
   "pygments_lexer": "ipython3",
   "version": "3.9.13"
  }
 },
 "nbformat": 4,
 "nbformat_minor": 5
}
